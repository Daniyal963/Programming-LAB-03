{
 "cells": [
  {
   "cell_type": "markdown",
   "metadata": {},
   "source": [
    "# Program no.1 (Working with MATH OPERATORS)"
   ]
  },
  {
   "cell_type": "code",
   "execution_count": 1,
   "metadata": {},
   "outputs": [
    {
     "name": "stdout",
     "output_type": "stream",
     "text": [
      "sum is: 32\n"
     ]
    }
   ],
   "source": [
    "#Math operations in Python\n",
    "#Now taking two values\n",
    "a = 10\n",
    "b = 22\n",
    "#Using sum operators\n",
    "print(\"sum is:\", a+b)"
   ]
  },
  {
   "cell_type": "code",
   "execution_count": 13,
   "metadata": {},
   "outputs": [
    {
     "name": "stdout",
     "output_type": "stream",
     "text": [
      "-12\n"
     ]
    }
   ],
   "source": [
    "#Using Subtrat Operator\n",
    "a = 10\n",
    "b = 22\n",
    "print(a-b)"
   ]
  },
  {
   "cell_type": "code",
   "execution_count": 14,
   "metadata": {},
   "outputs": [
    {
     "name": "stdout",
     "output_type": "stream",
     "text": [
      "product is: 220\n"
     ]
    }
   ],
   "source": [
    "#Using multiplication operator\n",
    "print(\"product is:\",a*b)"
   ]
  },
  {
   "cell_type": "code",
   "execution_count": 15,
   "metadata": {},
   "outputs": [
    {
     "name": "stdout",
     "output_type": "stream",
     "text": [
      "Division is: 0.45454545454545453\n"
     ]
    }
   ],
   "source": [
    "#Using division operator\n",
    "print(\"Division is:\", a/b)"
   ]
  },
  {
   "cell_type": "code",
   "execution_count": 16,
   "metadata": {},
   "outputs": [
    {
     "name": "stdout",
     "output_type": "stream",
     "text": [
      "interger division is: 0\n"
     ]
    }
   ],
   "source": [
    "#Using integer division operator\n",
    "print(\"interger division is:\",a//b)"
   ]
  },
  {
   "cell_type": "code",
   "execution_count": 17,
   "metadata": {},
   "outputs": [
    {
     "name": "stdout",
     "output_type": "stream",
     "text": [
      "Power is: 10000000000000000000000\n"
     ]
    }
   ],
   "source": [
    "#Using power operator\n",
    "print(\"Power is:\",a**b)"
   ]
  },
  {
   "cell_type": "code",
   "execution_count": 18,
   "metadata": {},
   "outputs": [
    {
     "name": "stdout",
     "output_type": "stream",
     "text": [
      "MOdulus is: 10\n"
     ]
    }
   ],
   "source": [
    "#Using modulo operator or remainder\n",
    "print(\"MOdulus is:\",a%b)"
   ]
  },
  {
   "cell_type": "markdown",
   "metadata": {},
   "source": [
    "# Program no.2 PYTHON ASSIGNMENT OPERATORS"
   ]
  },
  {
   "cell_type": "code",
   "execution_count": 20,
   "metadata": {},
   "outputs": [
    {
     "name": "stdout",
     "output_type": "stream",
     "text": [
      "10\n"
     ]
    }
   ],
   "source": [
    "#First assign a value and then apply addition\n",
    "x = 5\n",
    "x += 5\n",
    "print(x)"
   ]
  },
  {
   "cell_type": "code",
   "execution_count": 21,
   "metadata": {},
   "outputs": [
    {
     "name": "stdout",
     "output_type": "stream",
     "text": [
      "0\n"
     ]
    }
   ],
   "source": [
    "#First assign a value and then apply Subtraction\n",
    "x = 5\n",
    "x -= 5\n",
    "print(x)"
   ]
  },
  {
   "cell_type": "code",
   "execution_count": 22,
   "metadata": {},
   "outputs": [
    {
     "name": "stdout",
     "output_type": "stream",
     "text": [
      "25\n"
     ]
    }
   ],
   "source": [
    "#First assign a value and then apply multiplication\n",
    "x = 5\n",
    "x *= 5\n",
    "print(x)"
   ]
  },
  {
   "cell_type": "code",
   "execution_count": 23,
   "metadata": {},
   "outputs": [
    {
     "name": "stdout",
     "output_type": "stream",
     "text": [
      "1.0\n"
     ]
    }
   ],
   "source": [
    "#First assign a value and then apply Division\n",
    "x = 5\n",
    "x /= 5\n",
    "print(x)"
   ]
  },
  {
   "cell_type": "code",
   "execution_count": 24,
   "metadata": {},
   "outputs": [
    {
     "name": "stdout",
     "output_type": "stream",
     "text": [
      "0\n"
     ]
    }
   ],
   "source": [
    "#First assign a value and then apply Modulus\n",
    "x = 5\n",
    "x %= 5\n",
    "print(x)"
   ]
  },
  {
   "cell_type": "code",
   "execution_count": 25,
   "metadata": {},
   "outputs": [
    {
     "name": "stdout",
     "output_type": "stream",
     "text": [
      "1\n"
     ]
    }
   ],
   "source": [
    "#First assign a value and then apply integer Division\n",
    "x = 5\n",
    "x //= 5\n",
    "print(x)"
   ]
  },
  {
   "cell_type": "code",
   "execution_count": 26,
   "metadata": {},
   "outputs": [
    {
     "name": "stdout",
     "output_type": "stream",
     "text": [
      "3125\n"
     ]
    }
   ],
   "source": [
    "#First assign a value and then apply Exponential\n",
    "x = 5\n",
    "x **= 5\n",
    "print(x)"
   ]
  },
  {
   "cell_type": "code",
   "execution_count": 27,
   "metadata": {},
   "outputs": [
    {
     "name": "stdout",
     "output_type": "stream",
     "text": [
      "1\n"
     ]
    }
   ],
   "source": [
    "#First assign a value and then apply \"and\" operator\n",
    "x = 5\n",
    "x &= 3\n",
    "print(x)"
   ]
  },
  {
   "cell_type": "code",
   "execution_count": 28,
   "metadata": {},
   "outputs": [
    {
     "name": "stdout",
     "output_type": "stream",
     "text": [
      "7\n"
     ]
    }
   ],
   "source": [
    "#First assign a value and then apply OR\n",
    "x = 5\n",
    "x |= 3 \n",
    "print(x)"
   ]
  },
  {
   "cell_type": "code",
   "execution_count": 29,
   "metadata": {},
   "outputs": [
    {
     "name": "stdout",
     "output_type": "stream",
     "text": [
      "6\n"
     ]
    }
   ],
   "source": [
    "#First assign a value and then apply NOT\n",
    "x = 5\n",
    "x ^= 3\n",
    "print(x)"
   ]
  },
  {
   "cell_type": "code",
   "execution_count": 30,
   "metadata": {},
   "outputs": [
    {
     "name": "stdout",
     "output_type": "stream",
     "text": [
      "0\n"
     ]
    }
   ],
   "source": [
    "#First assign a value and then apply boolean equality expression\n",
    "x = 5\n",
    "x >>= 5\n",
    "print(x)"
   ]
  },
  {
   "cell_type": "code",
   "execution_count": 31,
   "metadata": {},
   "outputs": [
    {
     "name": "stdout",
     "output_type": "stream",
     "text": [
      "160\n"
     ]
    }
   ],
   "source": [
    "#First assign a value and then apply boolean equality expression\n",
    "x = 5\n",
    "x <<= 5\n",
    "print(x)"
   ]
  },
  {
   "cell_type": "markdown",
   "metadata": {},
   "source": [
    "# Program no.3 PYTHON COMPARISION OPERATORS"
   ]
  },
  {
   "cell_type": "code",
   "execution_count": 32,
   "metadata": {},
   "outputs": [
    {
     "name": "stdout",
     "output_type": "stream",
     "text": [
      "X is equal to Y: False\n",
      "X is not equal to Y: True\n",
      "X is greater than Y: True\n",
      "X is lesser than Y: False\n",
      "X is greater than and equals to: True\n",
      "X is lesser than and equals to: False\n"
     ]
    }
   ],
   "source": [
    "#Applying Comparision Operators\n",
    "x = 20\n",
    "y = 15\n",
    "print(\"X is equal to Y:\", x==y)\n",
    "print(\"X is not equal to Y:\", x!=y)\n",
    "print(\"X is greater than Y:\", x>y)\n",
    "print(\"X is lesser than Y:\", x<y)\n",
    "print(\"X is greater than and equals to:\", x>=y)\n",
    "print(\"X is lesser than and equals to:\", x<=y)"
   ]
  },
  {
   "cell_type": "markdown",
   "metadata": {},
   "source": [
    "# Program no.4 PYTHON LOGICAL OPERATORS"
   ]
  },
  {
   "cell_type": "code",
   "execution_count": 33,
   "metadata": {},
   "outputs": [
    {
     "name": "stdout",
     "output_type": "stream",
     "text": [
      "True\n"
     ]
    }
   ],
   "source": [
    "#Assign a value and using 2 operators\n",
    "x = 15\n",
    "print(x>13 and x<20)"
   ]
  },
  {
   "cell_type": "code",
   "execution_count": 34,
   "metadata": {},
   "outputs": [
    {
     "name": "stdout",
     "output_type": "stream",
     "text": [
      "True\n"
     ]
    }
   ],
   "source": [
    "#Assign a value and using 2 operators\n",
    "x = 25\n",
    "print(x>23 or x<24)"
   ]
  },
  {
   "cell_type": "code",
   "execution_count": 35,
   "metadata": {},
   "outputs": [
    {
     "name": "stdout",
     "output_type": "stream",
     "text": [
      "True\n"
     ]
    }
   ],
   "source": [
    "#Assign a value and using 2 operators\n",
    "x = 35\n",
    "print(x>33 and x<40)"
   ]
  },
  {
   "cell_type": "markdown",
   "metadata": {},
   "source": [
    "# Program no.5 PYTHON IDENTITY OPERATORS"
   ]
  },
  {
   "cell_type": "code",
   "execution_count": 36,
   "metadata": {
    "scrolled": true
   },
   "outputs": [
    {
     "name": "stdout",
     "output_type": "stream",
     "text": [
      "True\n",
      "False\n",
      "False\n"
     ]
    }
   ],
   "source": [
    "#pplying Python identity Operators\n",
    "x = [\"ahmed\",\"bashir\"]\n",
    "y = [\"bashir\",\"ahmed\"]\n",
    "z=x\n",
    "print(x is z)\n",
    "print(x is y)\n",
    "print(x==y)"
   ]
  },
  {
   "cell_type": "markdown",
   "metadata": {},
   "source": [
    "# Program no.6 PERFORMING \"IS NOT\" IDENTITY OPERATION"
   ]
  },
  {
   "cell_type": "code",
   "execution_count": 38,
   "metadata": {},
   "outputs": [
    {
     "name": "stdout",
     "output_type": "stream",
     "text": [
      "False\n",
      "True\n"
     ]
    }
   ],
   "source": [
    "#Applying IS NOT identity operation (<> is not supported by new version of PYTHON)\n",
    "x = [\"ahmed\",\"bashir\"]\n",
    "y = [\"bashir\",\"ahmed\"]\n",
    "z = x\n",
    "print(x is not z)\n",
    "print(x is not y)"
   ]
  },
  {
   "cell_type": "markdown",
   "metadata": {},
   "source": [
    "# Program no.7 PYTHON MEMBERSHIP OPERATORS"
   ]
  },
  {
   "cell_type": "code",
   "execution_count": 39,
   "metadata": {},
   "outputs": [
    {
     "name": "stdout",
     "output_type": "stream",
     "text": [
      "True\n"
     ]
    }
   ],
   "source": [
    "#Performing \"in\" Membership Operation\n",
    "x = [\"wasim\", \"lubaid\", \"shahroz\", \"usman\", \"faisal\", \"farhan\"]\n",
    "print(\"faisal\" in x)"
   ]
  },
  {
   "cell_type": "markdown",
   "metadata": {},
   "source": [
    "# Program no.8 PYTHON \"not in\" membership operation"
   ]
  },
  {
   "cell_type": "code",
   "execution_count": 40,
   "metadata": {},
   "outputs": [
    {
     "name": "stdout",
     "output_type": "stream",
     "text": [
      "True\n"
     ]
    }
   ],
   "source": [
    "#Performing \"not in\" membership operation\n",
    "x = [\"wasim\", \"lubaid\", \"shahroz\", \"usman\", \"faisal\", \"farhan\"]\n",
    "print(\"prakash\" not in x)"
   ]
  },
  {
   "cell_type": "markdown",
   "metadata": {},
   "source": [
    "# Program no.9"
   ]
  },
  {
   "cell_type": "code",
   "execution_count": null,
   "metadata": {},
   "outputs": [],
   "source": [
    "#You are planning to throw a small bird at a distance d, with time t, and height h to some structure. Write a code in which you will use the physical quantities such as initial velocity, final velocity, angle in radians, gravity, height, sling shot etc. "
   ]
  },
  {
   "cell_type": "code",
   "execution_count": 9,
   "metadata": {},
   "outputs": [
    {
     "name": "stdout",
     "output_type": "stream",
     "text": [
      "Give me a velocity to fire at (in m/s): 20\n",
      "Give me an angle to fire at: 45\n",
      "Give me how far away you are from the structure: 200\n",
      "Give me the height of the structure (in meters): 50\n",
      "Final Velocity is: 137.88763541376724\n"
     ]
    }
   ],
   "source": [
    "import math\n",
    "#User input\n",
    "velocity = float(input('Give me a velocity to fire at (in m/s): '))\n",
    "angle = float(input('Give me an angle to fire at: '))\n",
    "distance = float(input('Give me how far away you are from the structure: '))\n",
    "height = float(input('Give me the height of the structure (in meters): '))\n",
    "#Height of Slingshot in metres\n",
    "slingshot = 5\n",
    "#earth gravity\n",
    "gravity = 9.8\n",
    "#Converting angles to radian\n",
    "angleRad = math.radians(angle)\n",
    "#Computing our x and y co-ordinates\n",
    "x = math.cos(angleRad)\n",
    "y = math.sin(angleRad)\n",
    "#Calculations\n",
    "time = distance/(velocity * x)\n",
    "vx = x\n",
    "vy = y + (-9.8 * time)\n",
    "finalVelocity = math.sqrt((vx ** 2) + (vy ** 2))\n",
    "print(\"Final Velocity is:\", finalVelocity)"
   ]
  },
  {
   "cell_type": "markdown",
   "metadata": {},
   "source": [
    "# Progamming Excercise1"
   ]
  },
  {
   "cell_type": "markdown",
   "metadata": {},
   "source": [
    "# QUESTION no.1"
   ]
  },
  {
   "cell_type": "code",
   "execution_count": 6,
   "metadata": {},
   "outputs": [
    {
     "name": "stdout",
     "output_type": "stream",
     "text": [
      "The value of Radius:0.5\n",
      "The value of linear velocity is: 5.0 metre per second\n"
     ]
    }
   ],
   "source": [
    "#Finding the value of linear velocity by putting the value of radius 0.5\n",
    "import math\n",
    "angularSpeed = 10\n",
    "radius = float(input(\"The value of Radius:\"))\n",
    "linear_velocity = radius*angularSpeed\n",
    "print(\"The value of linear velocity is:\", linear_velocity, \"metre per second\")"
   ]
  },
  {
   "cell_type": "code",
   "execution_count": 5,
   "metadata": {},
   "outputs": [
    {
     "name": "stdout",
     "output_type": "stream",
     "text": [
      "The value of Radius:1\n",
      "The value of linear velocity is: 10 metre per second\n"
     ]
    }
   ],
   "source": [
    "#Finding the value of linear velocity by putting the value of radius 1\n",
    "import math\n",
    "angularSpeed = 10\n",
    "radius = int(input(\"The value of Radius:\"))\n",
    "linear_velocity = radius*angularSpeed\n",
    "print(\"The value of linear velocity is:\", linear_velocity, \"metre per second\")"
   ]
  },
  {
   "cell_type": "code",
   "execution_count": 4,
   "metadata": {},
   "outputs": [
    {
     "name": "stdout",
     "output_type": "stream",
     "text": [
      "The value of Radius:2\n",
      "The value of linear velocity is: 20 metre per second\n"
     ]
    }
   ],
   "source": [
    "#Finding the value of linear velocity by putting the value of radius 2\n",
    "import math\n",
    "angularSpeed = 10\n",
    "radius = int(input(\"The value of Radius:\"))\n",
    "linear_velocity = radius*angularSpeed\n",
    "print(\"The value of linear velocity is:\", linear_velocity ,\"metre per second\")"
   ]
  },
  {
   "cell_type": "markdown",
   "metadata": {},
   "source": [
    "# QUESTION no.2"
   ]
  },
  {
   "cell_type": "code",
   "execution_count": 3,
   "metadata": {},
   "outputs": [
    {
     "name": "stdout",
     "output_type": "stream",
     "text": [
      "The value of radius:5\n",
      "The value of linear velocity is: 2616.5 metre per second\n"
     ]
    }
   ],
   "source": [
    "#Finding the value of linear velocity by putting the value of radius 5cm\n",
    "import math\n",
    "angularSpeed = 523.3\n",
    "radius = float(input(\"The value of radius:\"))\n",
    "linear_velocity = radius*angularSpeed\n",
    "print(\"The value of linear velocity is:\", linear_velocity ,\"metre per second\")"
   ]
  },
  {
   "cell_type": "code",
   "execution_count": 1,
   "metadata": {},
   "outputs": [
    {
     "name": "stdout",
     "output_type": "stream",
     "text": [
      "The value of radius:10\n",
      "The value of linear velocity is: 5233.0 metre per second\n"
     ]
    }
   ],
   "source": [
    "#Finding the value of linear velocity by putting the value of radius 10cm\n",
    "import math\n",
    "angularSpeed = 523.3\n",
    "radius = float(input(\"The value of radius:\"))\n",
    "linear_velocity = radius*angularSpeed\n",
    "print(\"The value of linear velocity is:\", linear_velocity ,\"metre per second\")"
   ]
  },
  {
   "cell_type": "markdown",
   "metadata": {},
   "source": [
    "# QUESTION no.3"
   ]
  },
  {
   "cell_type": "code",
   "execution_count": 2,
   "metadata": {},
   "outputs": [
    {
     "name": "stdout",
     "output_type": "stream",
     "text": [
      "The value of linear velocity is: 0.3333333333333333 meter per second\n"
     ]
    }
   ],
   "source": [
    "#Finding the value of angular velocity.\n",
    "import math\n",
    "radius = 30\n",
    "velocity = 10\n",
    "angularVelocity = velocity/radius\n",
    "print(\"The value of linear velocity is:\", angularVelocity, \"meter per second\")"
   ]
  },
  {
   "cell_type": "markdown",
   "metadata": {},
   "source": [
    "# QUESTION no.4"
   ]
  },
  {
   "cell_type": "code",
   "execution_count": 3,
   "metadata": {},
   "outputs": [
    {
     "name": "stdout",
     "output_type": "stream",
     "text": [
      "The value of linear velocity is: 40.0 meter per second\n"
     ]
    }
   ],
   "source": [
    "#Finding the value of angular velocity.\n",
    "import math\n",
    "radius = 0.25\n",
    "velocity = 10\n",
    "angularVelocity = velocity/radius\n",
    "print(\"The value of linear velocity is:\", angularVelocity, \"meter per second\")"
   ]
  },
  {
   "cell_type": "markdown",
   "metadata": {},
   "source": [
    "# QUESTION no.5"
   ]
  },
  {
   "cell_type": "code",
   "execution_count": 4,
   "metadata": {},
   "outputs": [
    {
     "name": "stdout",
     "output_type": "stream",
     "text": [
      "1.256 metre\n"
     ]
    }
   ],
   "source": [
    "#Finding the value of distance.\n",
    "import math\n",
    "radius = 0.2\n",
    "angularSpeed = 12.56\n",
    "time = 10\n",
    "distance = angularSpeed/time\n",
    "print(distance,\"metre\")"
   ]
  },
  {
   "cell_type": "markdown",
   "metadata": {},
   "source": [
    "# QUESTION no.6"
   ]
  },
  {
   "cell_type": "code",
   "execution_count": 6,
   "metadata": {},
   "outputs": [
    {
     "name": "stdout",
     "output_type": "stream",
     "text": [
      "600.0 metres\n"
     ]
    }
   ],
   "source": [
    "#finding the value of Distance.\n",
    "import math\n",
    "velocity = 50\n",
    "acceleration = 10\n",
    "time = 120\n",
    "distance = velocity/acceleration*time\n",
    "print(distance,\"metres\")"
   ]
  },
  {
   "cell_type": "markdown",
   "metadata": {},
   "source": [
    "# QUESTION no.7"
   ]
  },
  {
   "cell_type": "code",
   "execution_count": null,
   "metadata": {},
   "outputs": [],
   "source": []
  }
 ],
 "metadata": {
  "kernelspec": {
   "display_name": "Python 3",
   "language": "python",
   "name": "python3"
  },
  "language_info": {
   "codemirror_mode": {
    "name": "ipython",
    "version": 3
   },
   "file_extension": ".py",
   "mimetype": "text/x-python",
   "name": "python",
   "nbconvert_exporter": "python",
   "pygments_lexer": "ipython3",
   "version": "3.6.5"
  }
 },
 "nbformat": 4,
 "nbformat_minor": 2
}
